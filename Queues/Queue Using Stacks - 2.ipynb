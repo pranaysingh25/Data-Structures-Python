{
 "cells": [
  {
   "cell_type": "code",
   "execution_count": 3,
   "metadata": {},
   "outputs": [],
   "source": [
    "# # ENQUEUE- O(N) , DEQUEUE - O(1) : IN THIS WE WILL CONSIDER TOP OF STACK AS 'FIRST' OF QUEUE\n",
    "\n",
    "class Queue:\n",
    "    \n",
    "    def __init__(self):\n",
    "        self.__stack = []\n",
    "        self.__stack2 = []\n",
    "        \n",
    "    def enqueue(self, data):              # O(N)- cuz, first of queue is TOP of stack\n",
    "        if self.size() == 0:\n",
    "            self.__stack.append(data)\n",
    "            return\n",
    "        while len(self.__stack) != 0:\n",
    "            self.__stack2.append(self.__stack.pop())\n",
    "        self.__stack.append(data)\n",
    "        while len(self.__stack2) != 0:\n",
    "            self.__stack.append(self.__stack2.pop())\n",
    "        \n",
    "    def dequeue(self):                  # O(1)- just remove from top of stack which is First of our queue\n",
    "        if self.size() == 0:\n",
    "            print('Queue is Empty')\n",
    "            return\n",
    "        return self.__stack.pop()\n",
    "    \n",
    "    def first(self):\n",
    "        if self.size() == 0:\n",
    "            print('Queue is Empty')\n",
    "            return\n",
    "        return self.__stack[-1]\n",
    "              \n",
    "    def size(self):\n",
    "        return len(self.__stack)\n",
    "              \n",
    "    def empty(self):\n",
    "        return self.size() == 0"
   ]
  },
  {
   "cell_type": "code",
   "execution_count": 4,
   "metadata": {},
   "outputs": [
    {
     "name": "stdout",
     "output_type": "stream",
     "text": [
      "3\n"
     ]
    },
    {
     "data": {
      "text/plain": [
       "False"
      ]
     },
     "execution_count": 4,
     "metadata": {},
     "output_type": "execute_result"
    }
   ],
   "source": [
    "q = Queue()\n",
    "q.enqueue(10)\n",
    "q.enqueue(20)\n",
    "q.enqueue(30)\n",
    "print(q.size())\n",
    "q.empty()"
   ]
  },
  {
   "cell_type": "code",
   "execution_count": 5,
   "metadata": {},
   "outputs": [
    {
     "data": {
      "text/plain": [
       "10"
      ]
     },
     "execution_count": 5,
     "metadata": {},
     "output_type": "execute_result"
    }
   ],
   "source": [
    "q.first()"
   ]
  },
  {
   "cell_type": "code",
   "execution_count": 6,
   "metadata": {},
   "outputs": [
    {
     "name": "stdout",
     "output_type": "stream",
     "text": [
      "10\n",
      "20\n",
      "30\n"
     ]
    }
   ],
   "source": [
    "while not q.empty():\n",
    "    print(q.dequeue())"
   ]
  },
  {
   "cell_type": "code",
   "execution_count": 7,
   "metadata": {},
   "outputs": [
    {
     "name": "stdout",
     "output_type": "stream",
     "text": [
      "Queue is Empty\n"
     ]
    }
   ],
   "source": [
    "q.first()"
   ]
  }
 ],
 "metadata": {
  "kernelspec": {
   "display_name": "Python 3",
   "language": "python",
   "name": "python3"
  },
  "language_info": {
   "codemirror_mode": {
    "name": "ipython",
    "version": 3
   },
   "file_extension": ".py",
   "mimetype": "text/x-python",
   "name": "python",
   "nbconvert_exporter": "python",
   "pygments_lexer": "ipython3",
   "version": "3.7.3"
  }
 },
 "nbformat": 4,
 "nbformat_minor": 2
}
