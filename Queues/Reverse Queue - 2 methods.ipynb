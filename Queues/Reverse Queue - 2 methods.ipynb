{
 "cells": [
  {
   "cell_type": "code",
   "execution_count": 1,
   "metadata": {},
   "outputs": [],
   "source": [
    "# Using Explicit Stacks:\n",
    "\n",
    "import queue\n",
    "def reverseQueue(q):\n",
    "    s1 = []\n",
    "    while q.qsize() != 0:\n",
    "        s1.append(q.get())\n",
    "    while len(s1) != 0:\n",
    "        q.put(s1.pop())\n"
   ]
  },
  {
   "cell_type": "code",
   "execution_count": 2,
   "metadata": {},
   "outputs": [],
   "source": [
    "# Using Recursion\n",
    "\n",
    "import queue\n",
    "def reverseQueueRec(q):\n",
    "    if q.qsize() <= 1:\n",
    "        return\n",
    "    front = q.get()\n",
    "    reverseQueueRec(q)\n",
    "    q.put(front)\n",
    "    return "
   ]
  },
  {
   "cell_type": "code",
   "execution_count": 3,
   "metadata": {},
   "outputs": [
    {
     "name": "stdout",
     "output_type": "stream",
     "text": [
      "1 2 3 4\n",
      "4 3 2 1 "
     ]
    }
   ],
   "source": [
    "ele = [int(i) for i in input().split()]\n",
    "q1 = queue.Queue()\n",
    "for i in ele:\n",
    "    q1.put(i)\n",
    "\n",
    "reverseQueue(q1)\n",
    "while not q1.empty():\n",
    "    print(q1.get(), end= ' ')\n",
    "    "
   ]
  },
  {
   "cell_type": "code",
   "execution_count": 4,
   "metadata": {},
   "outputs": [
    {
     "name": "stdout",
     "output_type": "stream",
     "text": [
      "1 2 3 4 5\n",
      "5 4 3 2 1 "
     ]
    }
   ],
   "source": [
    "ele = [int(i) for i in input().split()]\n",
    "q2 = queue.Queue()\n",
    "for i in ele:\n",
    "    q2.put(i)\n",
    "\n",
    "reverseQueueRec(q2)\n",
    "while not q2.empty():\n",
    "    print(q2.get(), end= ' ')\n",
    "    "
   ]
  },
  {
   "cell_type": "code",
   "execution_count": 5,
   "metadata": {},
   "outputs": [],
   "source": [
    "# Reverse First K elements of Queue:\n",
    "\n",
    "import queue\n",
    "def reverseQFirstK(q, k):\n",
    "    reverseQueueRec(q, k)\n",
    "    n = q.qsize()\n",
    "    for i in range(n - k):\n",
    "        q.put(q.get())\n",
    "        \n",
    "        \n",
    "def reverseQueueRec(q, k):\n",
    "    if(k<=0 or q.qsize() <= 1):\n",
    "        return\n",
    "    front = q.get()\n",
    "    reverseQueueRec(q, k-1)\n",
    "    q.put(front)\n",
    "    return"
   ]
  },
  {
   "cell_type": "code",
   "execution_count": 6,
   "metadata": {},
   "outputs": [
    {
     "name": "stdout",
     "output_type": "stream",
     "text": [
      "1 2 3 4 5\n",
      "3\n",
      "3 2 1 4 5 "
     ]
    }
   ],
   "source": [
    "ele = [int(i) for i in input().split()]\n",
    "q3 = queue.Queue()\n",
    "for i in ele:\n",
    "    q3.put(i)\n",
    "    \n",
    "k = int(input())\n",
    "reverseQFirstK(q3, k)\n",
    "while not q3.empty():\n",
    "    print(q3.get(), end= ' ')"
   ]
  }
 ],
 "metadata": {
  "kernelspec": {
   "display_name": "Python 3",
   "language": "python",
   "name": "python3"
  },
  "language_info": {
   "codemirror_mode": {
    "name": "ipython",
    "version": 3
   },
   "file_extension": ".py",
   "mimetype": "text/x-python",
   "name": "python",
   "nbconvert_exporter": "python",
   "pygments_lexer": "ipython3",
   "version": "3.7.3"
  }
 },
 "nbformat": 4,
 "nbformat_minor": 2
}
