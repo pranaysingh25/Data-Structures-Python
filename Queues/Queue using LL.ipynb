{
 "cells": [
  {
   "cell_type": "code",
   "execution_count": 4,
   "metadata": {},
   "outputs": [],
   "source": [
    "class Node:\n",
    "    def __init__(self,data):\n",
    "        self.data = data\n",
    "        self.next = None\n",
    "        \n",
    "class QueueUsingLL:\n",
    "     \n",
    "    def __init__(self):\n",
    "        self.__head = None\n",
    "        self.__tail = None\n",
    "        self.__count = 0\n",
    "        \n",
    "    def enqueue(self,data):\n",
    "        node = Node(data)\n",
    "        if self.__head is None:\n",
    "            self.__head = node\n",
    "            self.__tail = node\n",
    "            self.__count += 1\n",
    "            return\n",
    "        self.__tail.next = node\n",
    "        self.__tail = node\n",
    "        self.__count += 1\n",
    "        \n",
    "    def dequeue(self):\n",
    "        if self.__head is None:\n",
    "            print('Queue is empty')\n",
    "            return\n",
    "        removed = self.__head.data\n",
    "        self.__head = self.__head.next\n",
    "        self.__count -= 1\n",
    "        return removed\n",
    "    \n",
    "    def front(self):\n",
    "        if self.__head is None:\n",
    "            print('Queue is empty')\n",
    "            return\n",
    "        return self.__head.data\n",
    "    \n",
    "    def isEmpty(self):\n",
    "        return self.getSize() == 0\n",
    "    \n",
    "    def getSize(self):\n",
    "        return self.__count\n",
    "    "
   ]
  },
  {
   "cell_type": "code",
   "execution_count": 7,
   "metadata": {},
   "outputs": [
    {
     "name": "stdout",
     "output_type": "stream",
     "text": [
      "3\n",
      "False\n"
     ]
    },
    {
     "data": {
      "text/plain": [
       "10"
      ]
     },
     "execution_count": 7,
     "metadata": {},
     "output_type": "execute_result"
    }
   ],
   "source": [
    "q = QueueUsingLL()\n",
    "q.enqueue(10)\n",
    "q.enqueue(20)\n",
    "q.enqueue(30)\n",
    "print(q.getSize())\n",
    "print(q.isEmpty())\n",
    "q.front()"
   ]
  },
  {
   "cell_type": "code",
   "execution_count": 8,
   "metadata": {},
   "outputs": [
    {
     "name": "stdout",
     "output_type": "stream",
     "text": [
      "10\n",
      "20\n",
      "30\n"
     ]
    }
   ],
   "source": [
    "while not q.isEmpty():\n",
    "    print(q.dequeue())"
   ]
  },
  {
   "cell_type": "code",
   "execution_count": 11,
   "metadata": {},
   "outputs": [
    {
     "name": "stdout",
     "output_type": "stream",
     "text": [
      "0\n",
      "Queue is empty\n"
     ]
    }
   ],
   "source": [
    "print(q.getSize())\n",
    "q.front()"
   ]
  }
 ],
 "metadata": {
  "kernelspec": {
   "display_name": "Python 3",
   "language": "python",
   "name": "python3"
  },
  "language_info": {
   "codemirror_mode": {
    "name": "ipython",
    "version": 3
   },
   "file_extension": ".py",
   "mimetype": "text/x-python",
   "name": "python",
   "nbconvert_exporter": "python",
   "pygments_lexer": "ipython3",
   "version": "3.7.3"
  }
 },
 "nbformat": 4,
 "nbformat_minor": 2
}
