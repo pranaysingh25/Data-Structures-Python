{
 "cells": [
  {
   "cell_type": "markdown",
   "metadata": {},
   "source": [
    "We will Implement Queue using Stacks:\n",
    "1. It will require us 2 Stacks\n",
    "2. There could be 2 methods\n",
    "3. In each of the methods, one of the two operations: Enqueue and Dequeue will be on O(n) and other will be of O(1).\n",
    "4. So our choice of choosing what method will be based on whether we want enqueue to be O(1) or dequeue, since other will be      O(n) even if we don't want.\n",
    "5. HOW TO DIFF B/W THE TWO METHODS IN CODE IS DESCRIBED BELOW IN COMMENT"
   ]
  },
  {
   "cell_type": "code",
   "execution_count": 28,
   "metadata": {},
   "outputs": [],
   "source": [
    "# ENQUEUE- O(1) , DEQUEUE - O(N) : IN THIS WE WILL CONSIDER BOTTOM OF STACK AS 'FIRST' OF QUEUE\n",
    "\n",
    "class Queue:\n",
    "    \n",
    "    def __init__(self):\n",
    "        self.__stack = []\n",
    "        self.__stack2 = []\n",
    "        \n",
    "    def enqueue(self, data):              # Simply O(1)- cuz, first of queue is bottom of stack\n",
    "        self.__stack.append(data)\n",
    "        return\n",
    "        \n",
    "    def dequeue(self):\n",
    "        if self.size() == 0:\n",
    "            print('Queue is Empty')\n",
    "            return\n",
    "        while (len(self.__stack) != 1):\n",
    "            self.__stack2.append(self.__stack.pop())\n",
    "        removed = self.__stack.pop()\n",
    "        while len(self.__stack2) != 0: \n",
    "            self.__stack.append(self.__stack2.pop())\n",
    "        return removed\n",
    "    \n",
    "    def first(self):\n",
    "        if self.size() == 0:\n",
    "            print('Queue is Empty')\n",
    "            return\n",
    "        return self.__stack[0]\n",
    "              \n",
    "    def size(self):\n",
    "        return len(self.__stack)\n",
    "              \n",
    "    def empty(self):\n",
    "        return self.size() == 0"
   ]
  },
  {
   "cell_type": "code",
   "execution_count": 29,
   "metadata": {},
   "outputs": [
    {
     "name": "stdout",
     "output_type": "stream",
     "text": [
      "3\n"
     ]
    },
    {
     "data": {
      "text/plain": [
       "False"
      ]
     },
     "execution_count": 29,
     "metadata": {},
     "output_type": "execute_result"
    }
   ],
   "source": [
    "q = Queue()\n",
    "q.enqueue(10)\n",
    "q.enqueue(20)\n",
    "q.enqueue(30)\n",
    "print(q.size())\n",
    "q.empty()"
   ]
  },
  {
   "cell_type": "code",
   "execution_count": 30,
   "metadata": {},
   "outputs": [
    {
     "data": {
      "text/plain": [
       "10"
      ]
     },
     "execution_count": 30,
     "metadata": {},
     "output_type": "execute_result"
    }
   ],
   "source": [
    "q.first()"
   ]
  },
  {
   "cell_type": "code",
   "execution_count": 31,
   "metadata": {
    "scrolled": true
   },
   "outputs": [
    {
     "name": "stdout",
     "output_type": "stream",
     "text": [
      "10\n",
      "20\n",
      "30\n"
     ]
    }
   ],
   "source": [
    "while not q.empty():\n",
    "    print(q.dequeue())"
   ]
  },
  {
   "cell_type": "code",
   "execution_count": 32,
   "metadata": {},
   "outputs": [
    {
     "name": "stdout",
     "output_type": "stream",
     "text": [
      "Queue is Empty\n"
     ]
    }
   ],
   "source": [
    "q.first()"
   ]
  },
  {
   "cell_type": "markdown",
   "metadata": {},
   "source": [
    "The Other Method is in notebook 'Queue using Stacks- 2'"
   ]
  }
 ],
 "metadata": {
  "kernelspec": {
   "display_name": "Python 3",
   "language": "python",
   "name": "python3"
  },
  "language_info": {
   "codemirror_mode": {
    "name": "ipython",
    "version": 3
   },
   "file_extension": ".py",
   "mimetype": "text/x-python",
   "name": "python",
   "nbconvert_exporter": "python",
   "pygments_lexer": "ipython3",
   "version": "3.7.3"
  }
 },
 "nbformat": 4,
 "nbformat_minor": 2
}
