{
 "cells": [
  {
   "cell_type": "markdown",
   "metadata": {},
   "source": [
    "We should implement all the functionalities of Stack using Linked List here in O(1) time only"
   ]
  },
  {
   "cell_type": "code",
   "execution_count": 88,
   "metadata": {},
   "outputs": [],
   "source": [
    "class Node:\n",
    "    def __init__(self, data):\n",
    "        self.data = data\n",
    "        self.next = None\n",
    "\n",
    "class stack:\n",
    "    def __init__(self):\n",
    "        self.__head = None\n",
    "        self.__count = 0\n",
    "\n",
    "    def push(self, data):                   # The trick is we are creating a LL as reversedly linked(a <- b <- c <- d(head))\n",
    "        self.__node = Node(data)            # update newnode.next from none(default) to head then point head to newnode\n",
    "        self.__node.next = self.__head\n",
    "        self.__head = self.__node\n",
    "        self.__count +=1\n",
    "        \n",
    "    def pop(self):                          # The trick here is we are not deleting things just updating head to previous node\n",
    "        if self.isEmpty():                  # which is actally next in our reversedly linked LL(a <- b <- c(head)... <- d)\n",
    "            print(\"Stack is Empty\")\n",
    "            return\n",
    "        data = self.__head.data\n",
    "        self.__head = self.__head.next\n",
    "        self.__count -=1\n",
    "        return data\n",
    "        \n",
    "    def top(self):\n",
    "        if self.isEmpty():\n",
    "            print(\"Stack is Empty\")\n",
    "            return\n",
    "        return self.__head.data\n",
    "    \n",
    "    def size(self):\n",
    "        return self.__count\n",
    "    \n",
    "    def isEmpty(self):\n",
    "        return self.size() == 0"
   ]
  },
  {
   "cell_type": "code",
   "execution_count": 89,
   "metadata": {},
   "outputs": [],
   "source": [
    "s = stack()\n",
    "s.push(10)\n",
    "s.push(20)\n",
    "s.push(30)\n",
    "s.push(40)"
   ]
  },
  {
   "cell_type": "code",
   "execution_count": 90,
   "metadata": {},
   "outputs": [
    {
     "name": "stdout",
     "output_type": "stream",
     "text": [
      "False\n",
      "4\n"
     ]
    },
    {
     "data": {
      "text/plain": [
       "40"
      ]
     },
     "execution_count": 90,
     "metadata": {},
     "output_type": "execute_result"
    }
   ],
   "source": [
    "print(s.isEmpty())\n",
    "print(s.size())\n",
    "s.top()"
   ]
  },
  {
   "cell_type": "code",
   "execution_count": 91,
   "metadata": {},
   "outputs": [
    {
     "name": "stdout",
     "output_type": "stream",
     "text": [
      "40\n",
      "30\n",
      "20\n",
      "10\n"
     ]
    }
   ],
   "source": [
    "while s.isEmpty() is False:\n",
    "    print(s.pop())"
   ]
  },
  {
   "cell_type": "code",
   "execution_count": 92,
   "metadata": {},
   "outputs": [
    {
     "name": "stdout",
     "output_type": "stream",
     "text": [
      "True\n",
      "0\n",
      "Stack is Empty\n"
     ]
    }
   ],
   "source": [
    "print(s.isEmpty())\n",
    "print(s.size())\n",
    "s.top()"
   ]
  }
 ],
 "metadata": {
  "kernelspec": {
   "display_name": "Python 3",
   "language": "python",
   "name": "python3"
  },
  "language_info": {
   "codemirror_mode": {
    "name": "ipython",
    "version": 3
   },
   "file_extension": ".py",
   "mimetype": "text/x-python",
   "name": "python",
   "nbconvert_exporter": "python",
   "pygments_lexer": "ipython3",
   "version": "3.7.3"
  }
 },
 "nbformat": 4,
 "nbformat_minor": 2
}
