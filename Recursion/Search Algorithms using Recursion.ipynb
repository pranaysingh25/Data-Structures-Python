{
 "cells": [
  {
   "cell_type": "code",
   "execution_count": 21,
   "metadata": {},
   "outputs": [
    {
     "data": {
      "text/plain": [
       "4"
      ]
     },
     "execution_count": 21,
     "metadata": {},
     "output_type": "execute_result"
    }
   ],
   "source": [
    "# Binary Search\n",
    "\n",
    "def BinarySearch(a, x, si, ei):\n",
    "    if si > ei:\n",
    "        return -1\n",
    "    mid = (si+ei)//2\n",
    "    if a[mid] == x:\n",
    "        return mid\n",
    "    elif a[mid] > x:\n",
    "        return BinarySearch(a, x, si, mid-1)\n",
    "    else:\n",
    "        return BinarySearch(a, x, mid+1, ei)\n",
    "    \n",
    "# Main    \n",
    "a= [1,2,3,5,8,9]\n",
    "BinarySearch(a, 8, 0, len(a))"
   ]
  },
  {
   "cell_type": "code",
   "execution_count": 46,
   "metadata": {},
   "outputs": [
    {
     "name": "stdout",
     "output_type": "stream",
     "text": [
      "6\n",
      "6 7 8 9 3 2\n",
      "2 3 6 7 8 9\n"
     ]
    }
   ],
   "source": [
    "# Merge Sort\n",
    "\n",
    "def mergeSort(a, start, end):\n",
    "    if len(a)== 0 or len(a)== 1:\n",
    "        return\n",
    "    \n",
    "    mid = len(a)//2\n",
    "    a1 = a[0: mid]\n",
    "    a2 = a[mid:]\n",
    "    \n",
    "    mergeSort(a1, 0, len(a1))\n",
    "    mergeSort(a2, 0, len(a2))\n",
    "\n",
    "    merge(a1, a2, a)\n",
    "    \n",
    "\n",
    "def merge(a1, a2, a):\n",
    "    i = 0 \n",
    "    j = 0\n",
    "    k = 0\n",
    "    while i < len(a1) and j < len(a2):\n",
    "        if (a1[i] < a2[j]):\n",
    "            a[k] = a1[i]\n",
    "            k = k+1\n",
    "            i = i+1\n",
    "        else:\n",
    "            a[k] = a2[j]\n",
    "            k = k+1\n",
    "            j = j+1\n",
    "    \n",
    "    while i < len(a1):\n",
    "        a[k] = a1[i]\n",
    "        k = k+1\n",
    "        i = i+1\n",
    "    while j < len(a2):\n",
    "        a[k] = a2[j]\n",
    "        k = k+1\n",
    "        j = j+1\n",
    "\n",
    "\n",
    "\n",
    "\n",
    "n=int(input())\n",
    "a=list(int(i) for i in input().strip().split(' '))\n",
    "mergeSort(a, 0, n)\n",
    "print(*a)\n",
    "\n"
   ]
  },
  {
   "cell_type": "code",
   "execution_count": 5,
   "metadata": {},
   "outputs": [
    {
     "name": "stdout",
     "output_type": "stream",
     "text": [
      "7 6 5 4 8 9\n",
      "4 5 6 7 8 9\n"
     ]
    }
   ],
   "source": [
    "# Merge Sort\n",
    "\n",
    "def merge_sort(arr):\n",
    "    if len(arr) == 1 or len(arr) == 0:\n",
    "        return \n",
    "    mid = len(arr)//2\n",
    "    a1 = arr[0:mid]\n",
    "    a2 = arr[mid:]\n",
    "    \n",
    "    merge_sort(a1)\n",
    "    merge_sort(a2)\n",
    "    \n",
    "    merge(a1, a2, arr)\n",
    "    \n",
    "def merge(a1, a2, arr):\n",
    "    i = 0\n",
    "    j = 0\n",
    "    k = 0\n",
    "    while i < len(a1) and j < len(a2):\n",
    "        if a1[i] < a2[j]:\n",
    "            arr[k] = a1[i]\n",
    "            i +=1\n",
    "            k +=1\n",
    "        else:\n",
    "            arr[k] = a2[j]\n",
    "            j +=1\n",
    "            k +=1\n",
    "    \n",
    "    while i < len(a1):\n",
    "        arr[k] = a1[i]\n",
    "        i +=1\n",
    "        k +=1\n",
    "    while j < len(a2):\n",
    "        arr[k] = a2[j]\n",
    "        j +=1\n",
    "        k +=1\n",
    "        \n",
    "arr = list(int(i) for i in input().strip().split(' '))\n",
    "merge_sort(arr)\n",
    "print(*arr)"
   ]
  },
  {
   "cell_type": "code",
   "execution_count": 14,
   "metadata": {},
   "outputs": [
    {
     "name": "stdout",
     "output_type": "stream",
     "text": [
      "2\n"
     ]
    }
   ],
   "source": [
    "bbb= [1, 2, 3, 4, 5, 6]\n",
    "print(bbb[1])\n",
    "\n",
    "# *array is just a way to print elements of a list/array seperated by 'space' instead of list as a structure"
   ]
  },
  {
   "cell_type": "code",
   "execution_count": 67,
   "metadata": {},
   "outputs": [
    {
     "name": "stdout",
     "output_type": "stream",
     "text": [
      "10\n",
      "7 8 9 0 1 2 3 4 5 6\n",
      "0 1 2 3 4 5 6 7 8 9\n"
     ]
    }
   ],
   "source": [
    "# Quick Sort\n",
    "\n",
    "def quickSort(arr, start, end):\n",
    "    if start >= end:\n",
    "        return\n",
    "    \n",
    "    pivot_index = partition(arr, start, end)\n",
    "    quickSort(arr, start, pivot_index-1)\n",
    "    quickSort(arr, pivot_index+1, end)\n",
    "    \n",
    "def partition(arr, start, end):\n",
    "    pivot = arr[start]\n",
    "    c = 0\n",
    "    for i in range(start, end+1):\n",
    "        if arr[i] < pivot:\n",
    "            c +=1\n",
    "    arr[start+c], arr[start]= arr[start], arr[start+c]\n",
    "    pivot_index = start + c\n",
    "    \n",
    "    i = start\n",
    "    j = end\n",
    "    while i < j:\n",
    "        if arr[i] < pivot:\n",
    "            i +=1\n",
    "        elif arr[j] >= pivot:\n",
    "            j -=1\n",
    "        else:\n",
    "            arr[i], arr[j] = arr[j], arr[i]\n",
    "            i +=1\n",
    "            j -=1\n",
    "    \n",
    "    return pivot_index\n",
    "\n",
    "n=int(input())\n",
    "arr=list(int(i) for i in input().strip().split(' '))\n",
    "quickSort(arr, 0, n-1)\n",
    "print(*arr)\n"
   ]
  },
  {
   "cell_type": "code",
   "execution_count": 77,
   "metadata": {},
   "outputs": [
    {
     "name": "stdout",
     "output_type": "stream",
     "text": [
      "3\n",
      "a c\n",
      "a b\n",
      "c b\n",
      "a c\n",
      "b a\n",
      "b c\n",
      "a c\n"
     ]
    }
   ],
   "source": [
    "# TOWER OF HANOI\n",
    "\n",
    "def towerofhanoi(n, source, aux, dest):\n",
    "    if n == 0:\n",
    "        return\n",
    "    if n == 1:\n",
    "        print(source, dest)\n",
    "        return\n",
    "    towerofhanoi(n-1, source, dest, aux)\n",
    "    print(source, dest)\n",
    "    towerofhanoi(n-1, aux, source, dest)\n",
    "\n",
    "\n",
    "n=int(input())\n",
    "towerofhanoi(n, 'a', 'b', 'c')\n"
   ]
  }
 ],
 "metadata": {
  "kernelspec": {
   "display_name": "Python 3",
   "language": "python",
   "name": "python3"
  },
  "language_info": {
   "codemirror_mode": {
    "name": "ipython",
    "version": 3
   },
   "file_extension": ".py",
   "mimetype": "text/x-python",
   "name": "python",
   "nbconvert_exporter": "python",
   "pygments_lexer": "ipython3",
   "version": "3.7.3"
  }
 },
 "nbformat": 4,
 "nbformat_minor": 2
}
