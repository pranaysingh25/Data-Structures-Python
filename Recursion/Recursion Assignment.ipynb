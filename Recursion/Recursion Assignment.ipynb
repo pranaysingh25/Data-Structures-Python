{
 "cells": [
  {
   "cell_type": "code",
   "execution_count": null,
   "metadata": {},
   "outputs": [],
   "source": [
    "# Geometric Sum\n",
    "\n",
    "def geometricSum(k):\n",
    "    if k == 0:\n",
    "        return 1\n",
    "    ans = 1/pow(2, k) + geometricSum(k-1)\n",
    "    return ans\n",
    "k = int(input())\n",
    "print(format(geometricSum(k), '.5f'))\n",
    "\n",
    "\n",
    "# last line uses f-string in python which is more cool than .format , .5f means it will keep upto 5 decimal digits. "
   ]
  },
  {
   "cell_type": "code",
   "execution_count": 24,
   "metadata": {},
   "outputs": [
    {
     "name": "stdout",
     "output_type": "stream",
     "text": [
      "racar\n"
     ]
    },
    {
     "data": {
      "text/plain": [
       "True"
      ]
     },
     "execution_count": 24,
     "metadata": {},
     "output_type": "execute_result"
    }
   ],
   "source": [
    "# Palindrome\n",
    "\n",
    "def isPalindrome(s):\n",
    "    if len(s) == 1 or len(s) == 0:\n",
    "        return True\n",
    "    smalloutput = isPalindrome(s[1:])\n",
    "    if smalloutput == True:\n",
    "        return False\n",
    "    else:\n",
    "        return s[0] == s[len(s)-1]\n",
    "\n",
    "s = input()\n",
    "isPalindrome(s)"
   ]
  },
  {
   "cell_type": "code",
   "execution_count": 28,
   "metadata": {},
   "outputs": [
    {
     "name": "stdout",
     "output_type": "stream",
     "text": [
      "1099\n",
      "19\n"
     ]
    }
   ],
   "source": [
    "# Sum of Digits- Recursive\n",
    "\n",
    "def sumdigits(n):\n",
    "    if n== 0:\n",
    "        return 0\n",
    "    \n",
    "    return n%10 + sumdigits(n//10)\n",
    "\n",
    "n = int(input())\n",
    "print(sumdigits(n))"
   ]
  },
  {
   "cell_type": "code",
   "execution_count": 119,
   "metadata": {},
   "outputs": [
    {
     "data": {
      "text/plain": [
       "5"
      ]
     },
     "execution_count": 119,
     "metadata": {},
     "output_type": "execute_result"
    }
   ],
   "source": [
    "# Count the number of zeros in a number\n",
    "\n",
    "def countzero(n):\n",
    "    if n == 0:\n",
    "        return 0\n",
    "    \n",
    "    if n % 10 == 0:\n",
    "        return 1 + countzero(n//10)\n",
    "    else:\n",
    "        return countzero(n//10)\n",
    "\n",
    "countzero(1000100)   "
   ]
  },
  {
   "cell_type": "code",
   "execution_count": 154,
   "metadata": {},
   "outputs": [
    {
     "data": {
      "text/plain": [
       "512311"
      ]
     },
     "execution_count": 154,
     "metadata": {},
     "output_type": "execute_result"
    }
   ],
   "source": [
    "# Convert a given number string into integer\n",
    "\n",
    "def convertit(n):\n",
    "    if len(n) == 1:\n",
    "        return ord(n) - ord('0')\n",
    "    \n",
    "    smalloutput = convertit(n[0:len(n)-1])\n",
    "    return smalloutput * 10 + (ord(n[len(n)-1]) - ord('0'))\n",
    "\n",
    "convertit('512311')"
   ]
  },
  {
   "cell_type": "code",
   "execution_count": 192,
   "metadata": {},
   "outputs": [
    {
     "name": "stdout",
     "output_type": "stream",
     "text": [
      "xxyyzzabc\n",
      "x*xy*yz*zabc\n"
     ]
    }
   ],
   "source": [
    "# Separate identicakl chars in a string via '*'\n",
    "\n",
    "def Separateit(s):\n",
    "    if len(s) == 1:\n",
    "        return s\n",
    "    \n",
    "    smalloutput = Separateit(s[0:len(s)-1])\n",
    "    if s[len(s)-1] == smalloutput[len(smalloutput)-1]:\n",
    "        return smalloutput + \"*\" + s[len(s)-1]\n",
    "    else:\n",
    "        return smalloutput + s[len(s)-1]\n",
    "\n",
    "\n",
    "s = input()\n",
    "print(Separateit(s))"
   ]
  },
  {
   "cell_type": "code",
   "execution_count": 196,
   "metadata": {},
   "outputs": [
    {
     "name": "stdout",
     "output_type": "stream",
     "text": [
      "4\n",
      "7\n"
     ]
    }
   ],
   "source": [
    "# Staircase Problem : \n",
    "\n",
    "def StairWays(n):\n",
    "    if n == 1 or n == 0:\n",
    "        return 1\n",
    "    elif n == 2:\n",
    "        return 2\n",
    "    elif n == 3:\n",
    "        return 4\n",
    "    smallans = StairWays(n-1) + StairWays(n-2) + StairWays(n-3)\n",
    "    return smallans\n",
    "\n",
    "n = int(input())\n",
    "print(StairWays(n))\n",
    "\n",
    "# Base Case is taken upto 3 cases bacuase there are 3 possible ways and 3 base(minimal step, shortest step) cases for every\n",
    "# case. since every case will hit its base case taking along its answer so final ans is just the recursive calls(with their \n",
    "# own outputs in hand that would be added with base returned values)"
   ]
  },
  {
   "cell_type": "code",
   "execution_count": 197,
   "metadata": {},
   "outputs": [
    {
     "name": "stdout",
     "output_type": "stream",
     "text": [
      "3\n",
      "5\n",
      "15\n"
     ]
    }
   ],
   "source": [
    "# Multiplication of 2 numbers - Recursive , using only addition and substraction. \n",
    "\n",
    "def MultiplyRecursive(m, n):\n",
    "    if n == 0 or m == 0:\n",
    "        return 0\n",
    "    if n > 0:\n",
    "        return m + MultiplyRecursive(m, n-1)\n",
    "    if m < 0 or n < 0:\n",
    "        return -MultiplyRecursive(m , -n)\n",
    "    \n",
    "from sys import setrecursionlimit\n",
    "setrecursionlimit(11000)\n",
    "  \n",
    "m = int(input())\n",
    "n = int(input())\n",
    "print(MultiplyRecursive(m, n))"
   ]
  },
  {
   "cell_type": "code",
   "execution_count": 201,
   "metadata": {},
   "outputs": [
    {
     "name": "stdout",
     "output_type": "stream",
     "text": [
      "aaaabb\n",
      "false\n"
     ]
    }
   ],
   "source": [
    "# Check a string with only 'a' and 'b' obeying the following rules:\n",
    "# a. The string begins with an 'a'\n",
    "# b. Each 'a' is followed by nothing or an 'a' or \"bb\"\n",
    "# c. Each \"bb\" is followed by nothing or an 'a'\n",
    "\n",
    "def checkAB(s):\n",
    "    if len(s) == 0:\n",
    "        return False\n",
    "    if len(s) == 1:\n",
    "        return s == 'a'\n",
    "    if s[0] == 'a':\n",
    "        return checkAB(s[1:])\n",
    "    return False \n",
    "    \n",
    "s = input()\n",
    "if checkAB(s):\n",
    "    print(\"true\")\n",
    "else:\n",
    "    print(\"false\")"
   ]
  },
  {
   "cell_type": "code",
   "execution_count": 203,
   "metadata": {},
   "outputs": [
    {
     "name": "stdout",
     "output_type": "stream",
     "text": [
      "aaaabb\n",
      "true\n"
     ]
    }
   ],
   "source": [
    "# Check a string with only 'a' and 'b' obeying the following rules:\n",
    "# a. The string begins with an 'a'\n",
    "# b. Each 'a' is followed by nothing or an 'a' or \"bb\"\n",
    "# c. Each \"bb\" is followed by nothing or an 'a'\n",
    "\n",
    "def check(s,si):\n",
    "    if s[0]=='a':\n",
    "        if si==len(s)-1:\n",
    "            return True\n",
    "        if s[si]=='a':\n",
    "            if s[si+1]=='a':\n",
    "                return check(s,si+1)\n",
    "            elif s[si+1]=='b' and s[si+2]=='b':\n",
    "                return check(s,si+2)\n",
    "            else:\n",
    "                return False\n",
    "        if s[si]=='b':\n",
    "            if s[si+1]=='a':\n",
    "                return check(s,si+1)\n",
    "            else:\n",
    "                return False\n",
    "    else:\n",
    "        return False\n",
    "s=input()\n",
    "if check(s,0):\n",
    "    print('true')\n",
    "else:\n",
    "    print('false')"
   ]
  }
 ],
 "metadata": {
  "kernelspec": {
   "display_name": "Python 3",
   "language": "python",
   "name": "python3"
  },
  "language_info": {
   "codemirror_mode": {
    "name": "ipython",
    "version": 3
   },
   "file_extension": ".py",
   "mimetype": "text/x-python",
   "name": "python",
   "nbconvert_exporter": "python",
   "pygments_lexer": "ipython3",
   "version": "3.7.3"
  }
 },
 "nbformat": 4,
 "nbformat_minor": 2
}
