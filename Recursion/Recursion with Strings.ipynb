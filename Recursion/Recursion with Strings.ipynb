{
 "cells": [
  {
   "cell_type": "markdown",
   "metadata": {},
   "source": [
    " _Problem #   : Examples in Lectures_      \n",
    " _Problem #() : Exercise in Lectures_"
   ]
  },
  {
   "cell_type": "code",
   "execution_count": 7,
   "metadata": {},
   "outputs": [],
   "source": [
    "# Problem 1: Replace Character 'a' with 'b' in a string s\n",
    "\n",
    "def ReplaceChar(s, a, b):\n",
    "    if len(s)== 0:\n",
    "        return s\n",
    "    \n",
    "# apne ko len(s)== 0 means end tk recursion jarur karna hai kuch mile chahe na mile wo baad me dkhte hain in 'apna kaam'\n",
    "# i.e. induction step\n",
    "    \n",
    "    smallerOutput = ReplaceChar(s[1:], a, b)\n",
    "    if s[0]== a:\n",
    "        return b + smallerOutput\n",
    "    else:\n",
    "        return s[0] + smallerOutput"
   ]
  },
  {
   "cell_type": "code",
   "execution_count": 8,
   "metadata": {},
   "outputs": [
    {
     "data": {
      "text/plain": [
       "'pranav'"
      ]
     },
     "execution_count": 8,
     "metadata": {},
     "output_type": "execute_result"
    }
   ],
   "source": [
    "ReplaceChar(\"pranay\", 'y', 'v')"
   ]
  },
  {
   "cell_type": "code",
   "execution_count": 9,
   "metadata": {},
   "outputs": [
    {
     "name": "stdout",
     "output_type": "stream",
     "text": [
      "'praxxxxxxnay'\n",
      "'pranay'\n"
     ]
    }
   ],
   "source": [
    "# Problem 2() : Remove x\n",
    "\n",
    "def removeX(string):\n",
    "    if len(string)== 0:\n",
    "        return string\n",
    "    \n",
    "    smallerString = removeX(string[1:])\n",
    "    if string[0] != 'x':\n",
    "        return string[0] + smallerString\n",
    "    else:\n",
    "        return smallerString\n",
    "\n",
    "# Main\n",
    "string = input()\n",
    "print(removeX(string))\n"
   ]
  },
  {
   "cell_type": "code",
   "execution_count": 10,
   "metadata": {},
   "outputs": [
    {
     "name": "stdout",
     "output_type": "stream",
     "text": [
      "'aaabbcdeef'\n",
      "'abcdef'\n"
     ]
    }
   ],
   "source": [
    "# Problem 3() : removeConsecutiveDuplicates\n",
    "def removeConsecutiveDuplicates(string):\n",
    "    if len(string)== 0 or len(string)== 1:\n",
    "        return string\n",
    "    \n",
    "    if string[0]==string[1]:\n",
    "        return removeConsecutiveDuplicates(string[1:])\n",
    "    return string[0] + removeConsecutiveDuplicates(string[1:])\n",
    "\n",
    "\n",
    "string = input().strip()\n",
    "print(removeConsecutiveDuplicates(string))\n"
   ]
  },
  {
   "cell_type": "code",
   "execution_count": 55,
   "metadata": {},
   "outputs": [
    {
     "data": {
      "text/plain": [
       "'3.14p3.14'"
      ]
     },
     "execution_count": 55,
     "metadata": {},
     "output_type": "execute_result"
    }
   ],
   "source": [
    "# Problem 4: Replace pi performing the induction check before\n",
    "\n",
    "def replacePiFW(string):\n",
    "    if len(string) <= 1:\n",
    "        return string\n",
    "    \n",
    "    if string[0] == 'p' and string[1] == 'i':\n",
    "        return '3.14' + replacePiFW(string[2:])\n",
    "    \n",
    "    return string[0] + replacePiFW(string[1:])\n",
    "\n",
    "s= 'pippi'\n",
    "replacePiFW(s)"
   ]
  },
  {
   "cell_type": "code",
   "execution_count": 56,
   "metadata": {},
   "outputs": [
    {
     "data": {
      "text/plain": [
       "'3.14p3.14'"
      ]
     },
     "execution_count": 56,
     "metadata": {},
     "output_type": "execute_result"
    }
   ],
   "source": [
    "# Problem 5 Replace pi performing the induction check after\n",
    "\n",
    "def replacePiBW(s):\n",
    "    if len(s) <= 1:\n",
    "        return s\n",
    "    \n",
    "    so = replacePiBW(s[1:])\n",
    "    if s[0] == 'p' and s[1] == 'i':\n",
    "        return '3.14' + so[1:]\n",
    "    else:\n",
    "        return s[0] + so\n",
    "    \n",
    "s= 'pippi'\n",
    "replacePiBW(s)"
   ]
  }
 ],
 "metadata": {
  "kernelspec": {
   "display_name": "Python 3",
   "language": "python",
   "name": "python3"
  },
  "language_info": {
   "codemirror_mode": {
    "name": "ipython",
    "version": 3
   },
   "file_extension": ".py",
   "mimetype": "text/x-python",
   "name": "python",
   "nbconvert_exporter": "python",
   "pygments_lexer": "ipython3",
   "version": "3.7.3"
  }
 },
 "nbformat": 4,
 "nbformat_minor": 2
}
