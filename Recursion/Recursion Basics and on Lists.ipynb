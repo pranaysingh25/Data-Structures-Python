{
 "cells": [
  {
   "cell_type": "code",
   "execution_count": 17,
   "metadata": {},
   "outputs": [
    {
     "name": "stdout",
     "output_type": "stream",
     "text": [
      "5\n",
      "3\n"
     ]
    },
    {
     "data": {
      "text/plain": [
       "125"
      ]
     },
     "execution_count": 17,
     "metadata": {},
     "output_type": "execute_result"
    }
   ],
   "source": [
    "# Power of a Number\n",
    "\n",
    "def power(x, n):\n",
    "    if n == 0:\n",
    "        return 1\n",
    "    if x == 0:\n",
    "        return 0\n",
    "    return x * power(x, n-1)\n",
    "\n",
    "x = int(input())\n",
    "n = int(input())\n",
    "power(x, n)"
   ]
  },
  {
   "cell_type": "code",
   "execution_count": 23,
   "metadata": {},
   "outputs": [
    {
     "name": "stdout",
     "output_type": "stream",
     "text": [
      "5\n"
     ]
    },
    {
     "data": {
      "text/plain": [
       "120"
      ]
     },
     "execution_count": 23,
     "metadata": {},
     "output_type": "execute_result"
    }
   ],
   "source": [
    "# factorial of Number\n",
    "\n",
    "def fact(n):\n",
    "    if n == 0:\n",
    "        return 1\n",
    "    return n * fact(n-1)\n",
    "\n",
    "n = int(input())\n",
    "fact(n)"
   ]
  },
  {
   "cell_type": "code",
   "execution_count": 27,
   "metadata": {},
   "outputs": [
    {
     "name": "stdout",
     "output_type": "stream",
     "text": [
      "10\n"
     ]
    },
    {
     "data": {
      "text/plain": [
       "55"
      ]
     },
     "execution_count": 27,
     "metadata": {},
     "output_type": "execute_result"
    }
   ],
   "source": [
    "# Sum of n numbers\n",
    "\n",
    "def sum(n):\n",
    "    if n == 0:\n",
    "        return 0\n",
    "    return n + sum(n-1)\n",
    "\n",
    "n = int(input())\n",
    "sum(n)"
   ]
  },
  {
   "cell_type": "code",
   "execution_count": 49,
   "metadata": {},
   "outputs": [
    {
     "name": "stdout",
     "output_type": "stream",
     "text": [
      "5\n",
      "1\n",
      "2\n",
      "3\n",
      "4\n",
      "5\n"
     ]
    }
   ],
   "source": [
    "# Print First N natural numbers\n",
    "\n",
    "def PrintFirstN(n):\n",
    "    if n == 0:\n",
    "        return\n",
    "    PrintFirstN(n-1)\n",
    "    print(n)\n",
    "    \n",
    "n = int(input())    \n",
    "PrintFirstN(n)"
   ]
  },
  {
   "cell_type": "code",
   "execution_count": 50,
   "metadata": {},
   "outputs": [
    {
     "name": "stdout",
     "output_type": "stream",
     "text": [
      "5\n",
      "5\n",
      "4\n",
      "3\n",
      "2\n",
      "1\n"
     ]
    }
   ],
   "source": [
    "# Print N to 1 \n",
    "\n",
    "def One_to_N(n):\n",
    "    if n == 0: \n",
    "        return\n",
    "    print(n)\n",
    "    One_to_N(n-1)\n",
    "    \n",
    "n = int(input())\n",
    "One_to_N(n)"
   ]
  },
  {
   "cell_type": "code",
   "execution_count": 60,
   "metadata": {},
   "outputs": [
    {
     "name": "stdout",
     "output_type": "stream",
     "text": [
      "7\n"
     ]
    },
    {
     "data": {
      "text/plain": [
       "13"
      ]
     },
     "execution_count": 60,
     "metadata": {},
     "output_type": "execute_result"
    }
   ],
   "source": [
    "# nth fiboacci Series number\n",
    "\n",
    "def fibb(n):\n",
    "    if n == 1 or n == 2:\n",
    "        return 1\n",
    "    return fibb(n-1) + fibb(n-2)\n",
    "\n",
    "\n",
    "n = int(input())\n",
    "fibb(n)\n",
    "    "
   ]
  },
  {
   "cell_type": "code",
   "execution_count": 85,
   "metadata": {},
   "outputs": [
    {
     "name": "stdout",
     "output_type": "stream",
     "text": [
      "5\n",
      "1\n",
      "1\n",
      "2\n",
      "3\n",
      "5\n"
     ]
    }
   ],
   "source": [
    "# Print the Fibonacci Series\n",
    "\n",
    "def fibb(n):\n",
    "    if n == 1 or n == 2:\n",
    "        return 1\n",
    "    return fibb(n-1) + fibb(n-2)\n",
    "\n",
    "def printFib(n):\n",
    "    for i in range(1, n+1):\n",
    "        print(fibb(i))\n",
    "        \n",
    "n = int(input())\n",
    "printFib(n)"
   ]
  },
  {
   "cell_type": "code",
   "execution_count": 92,
   "metadata": {},
   "outputs": [
    {
     "name": "stdout",
     "output_type": "stream",
     "text": [
      "5 4 3 2 1\n"
     ]
    },
    {
     "data": {
      "text/plain": [
       "False"
      ]
     },
     "execution_count": 92,
     "metadata": {},
     "output_type": "execute_result"
    }
   ],
   "source": [
    "# Check if list is sorted or not: 1 way\n",
    "\n",
    "def isSorted(a):\n",
    "    if len(a) == 1 or len(a) == 0:\n",
    "        return True\n",
    "    if a[0] < a[1]:\n",
    "        return isSorted(a[1:])\n",
    "    return False\n",
    "    \n",
    "a = list(int(i) for i in input().strip().split(' '))\n",
    "isSorted(a)"
   ]
  },
  {
   "cell_type": "code",
   "execution_count": 98,
   "metadata": {},
   "outputs": [
    {
     "data": {
      "text/plain": [
       "8"
      ]
     },
     "execution_count": 98,
     "metadata": {},
     "output_type": "execute_result"
    }
   ],
   "source": [
    "# sum of an array \n",
    "\n",
    "def sumArray(a):\n",
    "    if len(a) == 1:\n",
    "        return a[0]\n",
    "    if len(a) == 0:\n",
    "        return -1\n",
    "    return a[0] + sumArray(a[1:])\n",
    "\n",
    "sumArray([1, 1, 1, 1, 1, 1, 2])"
   ]
  },
  {
   "cell_type": "code",
   "execution_count": 121,
   "metadata": {},
   "outputs": [
    {
     "data": {
      "text/plain": [
       "False"
      ]
     },
     "execution_count": 121,
     "metadata": {},
     "output_type": "execute_result"
    }
   ],
   "source": [
    "# Check if list is sorted or not: 2 way\n",
    "\n",
    "def isSortedB(a, si):\n",
    "    if si == len(a)-1 or si == len(a):\n",
    "        return True \n",
    "    if a[si] < a[si+1]:\n",
    "        return isSortedB(a, si+1)\n",
    "    else:\n",
    "        return False\n",
    "    \n",
    "isSortedB([1, 2, 3, 4, 3], 0)"
   ]
  },
  {
   "cell_type": "code",
   "execution_count": 187,
   "metadata": {},
   "outputs": [
    {
     "data": {
      "text/plain": [
       "3"
      ]
     },
     "execution_count": 187,
     "metadata": {},
     "output_type": "execute_result"
    }
   ],
   "source": [
    "# first index of a number in an array: 1 Way\n",
    "\n",
    "def FirstIndex(a, n):\n",
    "    if len(a) <= 0:\n",
    "        return -1\n",
    "\n",
    "    if a[0] == n:\n",
    "        return 0\n",
    "\n",
    "    smallans = FirstIndex(a[1:], n)\n",
    "    if smallans == -1:\n",
    "        return -1\n",
    "    else:\n",
    "        return smallans + 1\n",
    "\n",
    "\n",
    "FirstIndex([1, 2, 3, 4, 5, 4], 4)\n"
   ]
  },
  {
   "cell_type": "code",
   "execution_count": 134,
   "metadata": {},
   "outputs": [
    {
     "data": {
      "text/plain": [
       "3"
      ]
     },
     "execution_count": 134,
     "metadata": {},
     "output_type": "execute_result"
    }
   ],
   "source": [
    "# first index of a number in an array: 2 Way(better)\n",
    "\n",
    "def FirstIndexB(a, n, si):\n",
    "    if si == len(a):\n",
    "        return -1\n",
    "    if a[si] == n:\n",
    "        return si\n",
    "    else:\n",
    "        return FirstIndexB(a, n, si+1)\n",
    "    \n",
    "FirstIndexB([1, 2, 3, 4, 5, 4], 4, 0)"
   ]
  },
  {
   "cell_type": "code",
   "execution_count": 195,
   "metadata": {},
   "outputs": [
    {
     "data": {
      "text/plain": [
       "3"
      ]
     },
     "execution_count": 195,
     "metadata": {},
     "output_type": "execute_result"
    }
   ],
   "source": [
    "# FAV QUESTION!!😁😁😁 \n",
    "\n",
    "# Last Index of a number in an array: 1 Way\n",
    "\n",
    "def lastIndex(arr, x):\n",
    "    l = len(arr)\n",
    "    if l == 0:\n",
    "        return -1\n",
    "    \n",
    "    b = arr[1:]\n",
    "    smalloutput= lastIndex(b, x)\n",
    "    if smalloutput == -1:\n",
    "        if arr[0]== x:\n",
    "            return 0\n",
    "        else:\n",
    "             return -1\n",
    "    else:\n",
    "        return smalloutput+1\n",
    "\n",
    "lastIndex([4, 4, 4, 4, 6], 4)"
   ]
  },
  {
   "cell_type": "code",
   "execution_count": 196,
   "metadata": {},
   "outputs": [
    {
     "data": {
      "text/plain": [
       "3"
      ]
     },
     "execution_count": 196,
     "metadata": {},
     "output_type": "execute_result"
    }
   ],
   "source": [
    "# FAV QUESTION!!😁😁😁 \n",
    "\n",
    "# Last Index of a number in an array: 2 Way\n",
    "\n",
    "\n",
    "def lastIndexB(arr, x, si):\n",
    "    l = len(arr)\n",
    "    if si== l:\n",
    "        return -1\n",
    "    \n",
    "    smallerOutputB = lastIndexB(arr, x, si+1)\n",
    "    if smallerOutputB == -1:\n",
    "        if arr[si]== x:\n",
    "            return si\n",
    "        else:\n",
    "            return -1\n",
    "    else:\n",
    "        return smallerOutputB\n",
    "        \n",
    "lastIndex([4, 4, 4, 4, 6], 4)"
   ]
  }
 ],
 "metadata": {
  "kernelspec": {
   "display_name": "Python 3",
   "language": "python",
   "name": "python3"
  },
  "language_info": {
   "codemirror_mode": {
    "name": "ipython",
    "version": 3
   },
   "file_extension": ".py",
   "mimetype": "text/x-python",
   "name": "python",
   "nbconvert_exporter": "python",
   "pygments_lexer": "ipython3",
   "version": "3.7.3"
  }
 },
 "nbformat": 4,
 "nbformat_minor": 2
}
