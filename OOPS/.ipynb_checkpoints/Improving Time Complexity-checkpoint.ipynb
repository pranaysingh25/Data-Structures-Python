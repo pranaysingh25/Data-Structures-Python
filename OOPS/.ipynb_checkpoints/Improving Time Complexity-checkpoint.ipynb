{
 "cells": [
  {
   "cell_type": "code",
   "execution_count": 35,
   "metadata": {},
   "outputs": [
    {
     "name": "stdout",
     "output_type": "stream",
     "text": [
      "5\n",
      "1 2 3 4 5\n",
      "4\n",
      "9 8 3 5\n",
      "3\n",
      "5\n"
     ]
    }
   ],
   "source": [
    "# Find intersection elements in 2 arrays\n",
    "\n",
    "def intersection(arr1, arr2):\n",
    "    arr1.sort()\n",
    "    arr2.sort()\n",
    "    i = 0\n",
    "    j = 0\n",
    "    while i < len(arr1) and j < len(arr2):\n",
    "        if arr1[i] < arr2[j]:\n",
    "            i = i+1\n",
    "        elif arr1[i] > arr2[j]:\n",
    "            j = j+1\n",
    "        else:\n",
    "            print(arr1[i])\n",
    "            i = i+1\n",
    "            j = j+1\n",
    "            \n",
    "# def merge_sort(arr):\n",
    "#     if len(arr) == 1 or len(arr) == 0:\n",
    "#         return \n",
    "#     mid = len(arr)//2\n",
    "#     a1 = arr[0:mid]\n",
    "#     a2 = arr[mid:]\n",
    "    \n",
    "#     merge_sort(a1)\n",
    "#     merge_sort(a2)\n",
    "    \n",
    "#     merge(a1, a2, arr)\n",
    "    \n",
    "# def merge(a1, a2, arr):\n",
    "#     i = 0\n",
    "#     j = 0\n",
    "#     k = 0\n",
    "#     while i < len(a1) and j < len(a2):\n",
    "#         if a1[i] < a2[j]:\n",
    "#             arr[k] = a1[i]\n",
    "#             i +=1\n",
    "#             k +=1\n",
    "#         else:\n",
    "#             arr[k] = a2[j]\n",
    "#             j +=1\n",
    "#             k +=1\n",
    "    \n",
    "#     while i < len(a1):\n",
    "#         arr[k] = a1[i]\n",
    "#         i +=1\n",
    "#         k +=1\n",
    "#     while j < len(a2):\n",
    "#         arr[k] = a2[j]\n",
    "#         j +=1\n",
    "#         k +=1\n",
    "    \n",
    "n1=int(input())\n",
    "arr1=list(int(i) for i in input().strip().split(' '))\n",
    "n2=int(input())\n",
    "arr2=list(int(i) for i in input().strip().split(' '))\n",
    " \n",
    "intersection(arr1, arr2)"
   ]
  },
  {
   "cell_type": "code",
   "execution_count": 34,
   "metadata": {},
   "outputs": [
    {
     "name": "stdout",
     "output_type": "stream",
     "text": [
      "7\n",
      "3 1 4 1 1 1 1\n",
      "2\n"
     ]
    }
   ],
   "source": [
    "# Find equilibrium in an array \n",
    "\n",
    "import sys\n",
    "sys.setrecursionlimit(100000)\n",
    "## THIS PROGRAM WILL STILL NOT RUN DUE TO SYSTEM LIMITED CAPACITY\n",
    "\n",
    "def equilibriumIndex(arr, ei, lhs, rhs):\n",
    "    if ei == len(arr)-1:\n",
    "        return -1 \n",
    "    if lhs == rhs:\n",
    "        return ei\n",
    "    else:\n",
    "        return equilibriumIndex(arr, ei+1, lhs+arr[ei], rhs-arr[ei+1])\n",
    "# Main\n",
    "n = int(input())\n",
    "arr = [int(i) for i in input().strip().split()]\n",
    "ei = 0\n",
    "lhs = sum(arr[0:ei])\n",
    "rhs = sum(arr[ei+1:])\n",
    "print(equilibriumIndex(arr, 0, lhs, rhs))"
   ]
  },
  {
   "cell_type": "code",
   "execution_count": 33,
   "metadata": {},
   "outputs": [
    {
     "name": "stdout",
     "output_type": "stream",
     "text": [
      "7\n",
      "1 1 2 2 3 4 4\n",
      "3\n"
     ]
    }
   ],
   "source": [
    "# Find the Unique Element\n",
    "\n",
    "def FindUnique(arr):\n",
    "    arr.sort()\n",
    "    i = 0\n",
    "    while i <= len(arr)-1:\n",
    "        if i == len(arr) -1:\n",
    "            return arr[len(arr)-1]\n",
    "        elif arr[i] == arr[i+1]:\n",
    "            i = i+2\n",
    "        else:\n",
    "            return arr[i]\n",
    "            \n",
    "\n",
    "# Main\n",
    "n=int(input())\n",
    "arr=list(int(i) for i in input().strip().split(' '))\n",
    "unique=FindUnique(arr)\n",
    "print(unique)\n"
   ]
  },
  {
   "cell_type": "code",
   "execution_count": 31,
   "metadata": {},
   "outputs": [
    {
     "name": "stdout",
     "output_type": "stream",
     "text": [
      "9\n",
      "0 7 2 5 4 7 1 3 6\n",
      "7\n"
     ]
    }
   ],
   "source": [
    "# Find the Duplicate Element which is present twice\n",
    "\n",
    "def DuplicateNumber(arr):\n",
    "    arr.sort()\n",
    "    i = 0\n",
    "    while i <= len(arr)-1:\n",
    "        if arr[i] == arr[i+1]:\n",
    "            return arr[i]\n",
    "        else:\n",
    "            i = i+1\n",
    "\n",
    "n=int(input())\n",
    "arr=list(int(i) for i in input().strip().split(' '))\n",
    "ans=DuplicateNumber(arr)\n",
    "print(ans)"
   ]
  },
  {
   "cell_type": "code",
   "execution_count": 52,
   "metadata": {},
   "outputs": [
    {
     "name": "stdout",
     "output_type": "stream",
     "text": [
      "9\n",
      "1 3 6 2 5 4 3 2 4\n",
      "7\n",
      "1\n",
      "6\n"
     ]
    },
    {
     "ename": "KeyboardInterrupt",
     "evalue": "",
     "output_type": "error",
     "traceback": [
      "\u001b[1;31m---------------------------------------------------------------------------\u001b[0m",
      "\u001b[1;31mKeyboardInterrupt\u001b[0m                         Traceback (most recent call last)",
      "\u001b[1;32m<ipython-input-52-f6841a714c61>\u001b[0m in \u001b[0;36m<module>\u001b[1;34m\u001b[0m\n\u001b[0;32m     21\u001b[0m \u001b[0marr\u001b[0m\u001b[1;33m=\u001b[0m\u001b[0mlist\u001b[0m\u001b[1;33m(\u001b[0m\u001b[0mint\u001b[0m\u001b[1;33m(\u001b[0m\u001b[0mi\u001b[0m\u001b[1;33m)\u001b[0m \u001b[1;32mfor\u001b[0m \u001b[0mi\u001b[0m \u001b[1;32min\u001b[0m \u001b[0minput\u001b[0m\u001b[1;33m(\u001b[0m\u001b[1;33m)\u001b[0m\u001b[1;33m.\u001b[0m\u001b[0mstrip\u001b[0m\u001b[1;33m(\u001b[0m\u001b[1;33m)\u001b[0m\u001b[1;33m.\u001b[0m\u001b[0msplit\u001b[0m\u001b[1;33m(\u001b[0m\u001b[1;34m' '\u001b[0m\u001b[1;33m)\u001b[0m\u001b[1;33m)\u001b[0m\u001b[1;33m\u001b[0m\u001b[1;33m\u001b[0m\u001b[0m\n\u001b[0;32m     22\u001b[0m \u001b[0msum\u001b[0m\u001b[1;33m=\u001b[0m\u001b[0mint\u001b[0m\u001b[1;33m(\u001b[0m\u001b[0minput\u001b[0m\u001b[1;33m(\u001b[0m\u001b[1;33m)\u001b[0m\u001b[1;33m)\u001b[0m\u001b[1;33m\u001b[0m\u001b[1;33m\u001b[0m\u001b[0m\n\u001b[1;32m---> 23\u001b[1;33m \u001b[0mpairSum\u001b[0m\u001b[1;33m(\u001b[0m\u001b[0marr\u001b[0m\u001b[1;33m,\u001b[0m \u001b[0msum\u001b[0m\u001b[1;33m)\u001b[0m\u001b[1;33m\u001b[0m\u001b[1;33m\u001b[0m\u001b[0m\n\u001b[0m",
      "\u001b[1;32m<ipython-input-52-f6841a714c61>\u001b[0m in \u001b[0;36mpairSum\u001b[1;34m(arr, x)\u001b[0m\n\u001b[0;32m      4\u001b[0m     \u001b[0mj\u001b[0m \u001b[1;33m=\u001b[0m \u001b[0mlen\u001b[0m\u001b[1;33m(\u001b[0m\u001b[0marr\u001b[0m\u001b[1;33m)\u001b[0m\u001b[1;33m-\u001b[0m\u001b[1;36m1\u001b[0m\u001b[1;33m\u001b[0m\u001b[1;33m\u001b[0m\u001b[0m\n\u001b[0;32m      5\u001b[0m     \u001b[1;32mwhile\u001b[0m \u001b[0mi\u001b[0m \u001b[1;33m<\u001b[0m \u001b[0mj\u001b[0m\u001b[1;33m:\u001b[0m\u001b[1;33m\u001b[0m\u001b[1;33m\u001b[0m\u001b[0m\n\u001b[1;32m----> 6\u001b[1;33m         \u001b[1;32mif\u001b[0m \u001b[0marr\u001b[0m\u001b[1;33m[\u001b[0m\u001b[0mi\u001b[0m\u001b[1;33m]\u001b[0m \u001b[1;33m+\u001b[0m \u001b[0marr\u001b[0m\u001b[1;33m[\u001b[0m\u001b[0mj\u001b[0m\u001b[1;33m]\u001b[0m \u001b[1;33m==\u001b[0m \u001b[0mx\u001b[0m\u001b[1;33m:\u001b[0m\u001b[1;33m\u001b[0m\u001b[1;33m\u001b[0m\u001b[0m\n\u001b[0m\u001b[0;32m      7\u001b[0m             \u001b[0mi_pair\u001b[0m \u001b[1;33m=\u001b[0m \u001b[0marr\u001b[0m\u001b[1;33m.\u001b[0m\u001b[0mcount\u001b[0m\u001b[1;33m(\u001b[0m\u001b[0marr\u001b[0m\u001b[1;33m[\u001b[0m\u001b[0mi\u001b[0m\u001b[1;33m]\u001b[0m\u001b[1;33m)\u001b[0m\u001b[1;33m\u001b[0m\u001b[1;33m\u001b[0m\u001b[0m\n\u001b[0;32m      8\u001b[0m             \u001b[0mj_pair\u001b[0m \u001b[1;33m=\u001b[0m \u001b[0marr\u001b[0m\u001b[1;33m.\u001b[0m\u001b[0mcount\u001b[0m\u001b[1;33m(\u001b[0m\u001b[0marr\u001b[0m\u001b[1;33m[\u001b[0m\u001b[0mj\u001b[0m\u001b[1;33m]\u001b[0m\u001b[1;33m)\u001b[0m\u001b[1;33m\u001b[0m\u001b[1;33m\u001b[0m\u001b[0m\n",
      "\u001b[1;31mKeyboardInterrupt\u001b[0m: "
     ]
    }
   ],
   "source": [
    "def pairSum(arr, x):\n",
    "    arr.sort()\n",
    "    i = 0\n",
    "    j = len(arr)-1\n",
    "    while i < j:\n",
    "        if arr[i] + arr[j] == x:\n",
    "            i_pair = arr.count(arr[i]) \n",
    "            j_pair = arr.count(arr[j]\n",
    "            pairs = i_pair * j_pair\n",
    "            for pair in range(pairs):\n",
    "                print(arr[i])\n",
    "                print(arr[j])\n",
    "                i = i + i_pair\n",
    "                j = j - j_pair\n",
    "            else:\n",
    "                i = i+1\n",
    "                j = j-1\n",
    "\n",
    "# Main\n",
    "n=int(input())\n",
    "arr=list(int(i) for i in input().strip().split(' '))\n",
    "sum=int(input())\n",
    "pairSum(arr, sum)\n"
   ]
  },
  {
   "cell_type": "code",
   "execution_count": null,
   "metadata": {},
   "outputs": [],
   "source": [
    "def pairSum(arr, x):\n",
    "    arr.sort()\n",
    "    i = 0\n",
    "    j = len(arr)-1\n",
    "    while i < j:\n",
    "        if arr[i] + arr[j] == x:\n",
    "            c1 = 1\n",
    "            c2= 1\n",
    "            while arr[i] == arr[i+1]:\n",
    "                c1= c1+1\n",
    "                i= i+1\n",
    "            while arr[j] == arr[j-1]:\n",
    "                c2 = c2+1\n",
    "                j = j-1\n",
    "            pairs = c1 * c2\n",
    "            for pair in range(pairs):\n",
    "                print(arr[i-1], end=' ')\n",
    "                print(arr[j+1])\n",
    "            i = i + 1\n",
    "            j = j - 1\n",
    "            \n",
    "#             i_pair = arr.count(arr[i]) \n",
    "#             j_pair = arr.count(arr[j])\n",
    "#             pairs = i_pair * j_pair\n",
    "#             for pair in range(pairs):\n",
    "#                 print(arr[i], end=' ')\n",
    "#                 print(arr[j])\n",
    "            \n",
    "                      \n",
    "            \n",
    "        elif arr[i] + arr[j] < x:\n",
    "            i = i+1\n",
    "        else:\n",
    "            j = j-1\n",
    "\n",
    "\n",
    "n=int(input())\n",
    "arr=list(int(i) for i in input().strip().split(' '))\n",
    "sum=int(input())\n",
    "pairSum(arr, sum)\n"
   ]
  }
 ],
 "metadata": {
  "kernelspec": {
   "display_name": "Python 3",
   "language": "python",
   "name": "python3"
  },
  "language_info": {
   "codemirror_mode": {
    "name": "ipython",
    "version": 3
   },
   "file_extension": ".py",
   "mimetype": "text/x-python",
   "name": "python",
   "nbconvert_exporter": "python",
   "pygments_lexer": "ipython3",
   "version": "3.7.3"
  }
 },
 "nbformat": 4,
 "nbformat_minor": 2
}
