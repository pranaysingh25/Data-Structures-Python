{
 "cells": [
  {
   "cell_type": "code",
   "execution_count": 1,
   "metadata": {},
   "outputs": [
    {
     "name": "stdout",
     "output_type": "stream",
     "text": [
      "Name =  Parikh\n",
      "Age = 23\n",
      "Percentage =  70\n"
     ]
    }
   ],
   "source": [
    "# I'm telling, don't even look at this stupied shit! its copied. I self did all the(major) OOPS-2 below this cell.\n",
    "\n",
    "from datetime import date\n",
    "class Student:\n",
    "\n",
    "\tpassingPercentage = 40\n",
    "\n",
    "\tdef __init__(self,name,age=15,percentage=80):\n",
    "\t\tself.name = name\n",
    "\t\tself.age = age\n",
    "\t\tself.percentage = percentage\n",
    "\n",
    "\t@classmethod\n",
    "\tdef fromBirthYear(cls,name,year,percentage):\n",
    "\t\treturn cls(name,date.today().year - year,percentage)\n",
    "\n",
    "\tdef studentDetbails(self):\n",
    "\t\tprint(\"Name = \", self.name)\n",
    "\t\tprint(\"Age =\" , self.age)\n",
    "\t\tprint(\"Percentage = \", self.percentage)\n",
    "\t\t\n",
    "\n",
    "\tdef isPassed(self):\n",
    "\t\tif self.percentage > Student.passingPercentage:\n",
    "\t\t\tprint(\"Student is passed\")\n",
    "\t\telse:\n",
    "\t\t\tprint(\"Student is not passed\")\n",
    "\n",
    "\n",
    "\t@staticmethod\n",
    "\tdef welcomeToSchool():\n",
    "\t\tprint(\"Hey! Welcome To School\")\n",
    "\n",
    "\t@staticmethod\n",
    "\tdef isTeen(age):\n",
    "\t\treturn age>16\n",
    "\n",
    "s1 = Student(\"Parikh\")\n",
    "s1 = Student.fromBirthYear(\"Parikh\",1996,70)\n",
    "s1.studentDetails()\n",
    "# s1.isPassed()\n",
    "# s2 = Student(\"Varun\",26,90)\n",
    "# s1.studentDetails()\n",
    "# s2.studentDetails()\n",
    "# s1.studentDetails()\n",
    "# Student.studentDetails(s1)\n",
    "# s1.isPassed()\n",
    "# s1.welcomeToSchool()\n",
    "\n",
    "\n",
    "\n",
    "#class_name.function(object_name)"
   ]
  },
  {
   "cell_type": "code",
   "execution_count": 84,
   "metadata": {},
   "outputs": [
    {
     "name": "stdout",
     "output_type": "stream",
     "text": [
      "a = 10\n",
      "b = 11\n",
      "c = 12\n",
      "d = 13\n",
      "100\n",
      "200\n"
     ]
    }
   ],
   "source": [
    "# Private members( __ double underscore ) vs Public members. Ways to access them\n",
    "\n",
    "class A:\n",
    "    def __init__(self, a, b ):\n",
    "        self.a = a\n",
    "        self.__b = b\n",
    "        \n",
    "    def getb(self):\n",
    "            return self.__b\n",
    "        \n",
    "    def print(self):\n",
    "        print(self.a)                      # >> we can also use directly obj.a instead of self.a(I have a doubt tho why :p)\n",
    "        print(self.__b)\n",
    "    \n",
    "class B(A):\n",
    "    def __init__(self, a , b , c, d ):\n",
    "        super().__init__(a, b)\n",
    "        self.c = c\n",
    "        self.d = d\n",
    "        \n",
    "    def print(self):\n",
    "#         self.print()         > will go into recursion depth error\n",
    "#         super().print()      > will print A's print first then anything below it\n",
    "        print('a =' , self.a)\n",
    "        print('b =' , self.getb())\n",
    "        print('c =', y.c)\n",
    "        print('d =', y.d)\n",
    "\n",
    "\n",
    "y= B(10, 11, 12, 13)\n",
    "y.print()\n",
    "\n",
    "\n",
    "x = A(100, 200)\n",
    "x.print()\n",
    "\n",
    "#  every obj of any class prints funtion of its own class over any other class's if there are same name \n",
    "# function in both(eg. print())"
   ]
  },
  {
   "cell_type": "code",
   "execution_count": 85,
   "metadata": {},
   "outputs": [
    {
     "data": {
      "text/plain": [
       "300"
      ]
     },
     "execution_count": 85,
     "metadata": {},
     "output_type": "execute_result"
    }
   ],
   "source": [
    "# Protected members( _ single underscore) : here Python remarkbly thinks we are sensible enough to not alter the 'protected \n",
    "# declared' members (with single underscore prefixed) and so doesn't implicitly constraints its accessibility or alteration\n",
    "# outside of class. BUT it expects us to use it while not trying to alter or modify the protected members! GREAT!\n",
    "\n",
    "class A:\n",
    "    def __init__(self, a, b ):\n",
    "        self.a = a\n",
    "        self._b = b\n",
    "        \n",
    "    def getb(self):\n",
    "            return self._b\n",
    "        \n",
    "    def print(self):\n",
    "        print(self.a)\n",
    "        print(self._b)\n",
    "    \n",
    "class B(A):\n",
    "    def __init__(self, a , b , c, d ):\n",
    "        super().__init__(a, b)\n",
    "        self.c = c\n",
    "        self.d = d\n",
    "        \n",
    "    def print(self):\n",
    "#         self.print()         > will go into recursion depth error\n",
    "#         super().print()      > will print A's print first then anything below it\n",
    "        print('a =' , self.a)\n",
    "        print('b =' , self.getb())\n",
    "        print('c =', self.c)\n",
    "        print('d =', self.d)\n",
    "\n",
    "\n",
    "# y= B(10, 11, 12, 13)\n",
    "# y.print()\n",
    "x = A(10,20)\n",
    "x._b = 300\n",
    "x._b"
   ]
  },
  {
   "cell_type": "code",
   "execution_count": 151,
   "metadata": {},
   "outputs": [
    {
     "name": "stdout",
     "output_type": "stream",
     "text": [
      "Name of Parent is Manju\n"
     ]
    }
   ],
   "source": [
    "# Multiple Inheritance: Depends on Order, first one will be considered for Child class(i.e.Mother)\n",
    "\n",
    "class Mother:\n",
    "\n",
    "    def __init__(self):\n",
    "        self.name = \"Manju\"\n",
    "        \n",
    "#     def __str__(self):\n",
    "#         print(\"str of Mother Class\")\n",
    "\n",
    "    def print(self):\n",
    "        print(\"Print Of Mother called\")\n",
    "\n",
    "\n",
    "class Father:\n",
    "\n",
    "    def __init__(self):\n",
    "        self.name = \"Ajay\"\n",
    "        \n",
    "#     def __str__(self):\n",
    "#         print(\"str of Father Class\")\n",
    "\n",
    "    def print(self):\n",
    "        print(\"Print Of Father called\")\n",
    "        \n",
    "        \n",
    "class Child(Mother, Father):\n",
    "\n",
    "    def __init__(self):\n",
    "        super().__init__()\n",
    "        \n",
    "#     def __str__(self):\n",
    "#         super().__str__()\n",
    "\n",
    "    def print(self):\n",
    "        print(\"Name of Parent is\", self.name)\n",
    "\n",
    "c = Child()\n",
    "c.print()\n",
    "# print(c)"
   ]
  },
  {
   "cell_type": "code",
   "execution_count": 92,
   "metadata": {},
   "outputs": [
    {
     "name": "stdout",
     "output_type": "stream",
     "text": [
      "This is a Circle class which takes radius as an argument.\n"
     ]
    }
   ],
   "source": [
    "# Every Class is by default inherited from an object class, obj class by default 3 methods: init, new, str.\n",
    "#  we will generally be overriding init and str method(as CN says, idk whats that though)\n",
    "\n",
    "class Circle(object):\n",
    "\n",
    "    def __init__(self,radius):\n",
    "        self.__radius = radius\n",
    "\n",
    "    def __str__(self):\n",
    "        return \"This is a Circle class which takes radius as an argument.\"\n",
    "\n",
    "c = Circle(3)\n",
    "print(c)"
   ]
  },
  {
   "cell_type": "code",
   "execution_count": 155,
   "metadata": {},
   "outputs": [
    {
     "name": "stdout",
     "output_type": "stream",
     "text": [
      "Name of Parent is Manju\n",
      "[<class '__main__.Child'>, <class '__main__.Mother'>, <class '__main__.Father'>, <class 'object'>]\n"
     ]
    }
   ],
   "source": [
    "# Method Resolution Order: Order in which the inherited classes are classes from derived to base class: USE> dervied_class.mro\n",
    "\n",
    "class Mother:\n",
    "\n",
    "    def __init__(self):\n",
    "        self.name = \"Manju\"\n",
    "\n",
    "    def print(self):\n",
    "        print(\"Print Of Mother called\")\n",
    "\n",
    "\n",
    "class Father:\n",
    "\n",
    "    def __init__(self):\n",
    "        self.name = \"Ajay\"\n",
    "        \n",
    "\n",
    "    def print(self):\n",
    "        print(\"Print Of Father called\")\n",
    "        \n",
    "        \n",
    "class Child(Mother, Father):\n",
    "\n",
    "    def __init__(self):\n",
    "        super().__init__()\n",
    "        \n",
    "    def print(self):\n",
    "        print(\"Name of Parent is\", self.name)\n",
    "\n",
    "c = Child()\n",
    "c.print()\n",
    "print(Child.mro())\n",
    "\n",
    "# Output: MRO(order) is child > Mother > Father > Object , since every class is inherited from an object, its the super class \n",
    "# of every class"
   ]
  },
  {
   "cell_type": "code",
   "execution_count": 156,
   "metadata": {},
   "outputs": [
    {
     "name": "stdout",
     "output_type": "stream",
     "text": [
      "This point is at (4,6)\n",
      "False\n"
     ]
    }
   ],
   "source": [
    "# Operator Overloading \n",
    "\n",
    "\n",
    "import math\n",
    "class Point:\n",
    "\n",
    "\tdef __init__(self,x,y):\n",
    "\t\tself.__x = x\n",
    "\t\tself.__y = y\n",
    "\n",
    "\n",
    "\tdef __str__(self):\n",
    "\n",
    "\t\treturn \"This point is at (\" + str(self.__x) + \",\" + str(self.__y) + \")\"\n",
    "\n",
    "\tdef __add__(self,point_object):\n",
    "\t\treturn Point(self.__x + point_object.__x,self.__y + point_object.__y)\n",
    "\n",
    "\tdef __lt__(self,point_object):\n",
    "\t\treturn math.sqrt(self.__x**2 + self.__y**2) < math.sqrt(point_object.__x**2 + point_object.__y**2)\n",
    "\n",
    "\n",
    "p1 = Point(1,2)\n",
    "p2 = Point(3,4)\n",
    "p3 = p1 + p2\n",
    "print(p3)\n",
    "print(p2<p1)"
   ]
  },
  {
   "cell_type": "code",
   "execution_count": 178,
   "metadata": {},
   "outputs": [
    {
     "name": "stdout",
     "output_type": "stream",
     "text": [
      "function 1 called\n"
     ]
    }
   ],
   "source": [
    "# abstract method and class\n",
    "\n",
    "class A(ABC):\n",
    "\n",
    "    @abstractmethod\n",
    "    def fun1(self):\n",
    "        pass\n",
    "\n",
    "    @abstractmethod\n",
    "    def fun2(self):\n",
    "        pass\n",
    "\n",
    "class B(A):\n",
    "\n",
    "    def fun1(self):\n",
    "        print(\"function 1 called\")\n",
    "\n",
    "    def fun2(self):\n",
    "        print(\"function 2 called\")\n",
    "o = B()\n",
    "o.fun1()"
   ]
  }
 ],
 "metadata": {
  "kernelspec": {
   "display_name": "Python 3",
   "language": "python",
   "name": "python3"
  },
  "language_info": {
   "codemirror_mode": {
    "name": "ipython",
    "version": 3
   },
   "file_extension": ".py",
   "mimetype": "text/x-python",
   "name": "python",
   "nbconvert_exporter": "python",
   "pygments_lexer": "ipython3",
   "version": "3.7.3"
  }
 },
 "nbformat": 4,
 "nbformat_minor": 2
}
